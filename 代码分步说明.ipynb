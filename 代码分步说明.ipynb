{
 "cells": [
  {
   "cell_type": "code",
   "execution_count": 1,
   "metadata": {},
   "outputs": [],
   "source": [
    "import os # 引入文件管理模块，读写文件，资源管理器\n",
    "import time # 时间模块\n",
    "import json # json文件读写模块\n",
    "import serial # 串口通讯模块，pip install pyserial\n",
    "import subprocess\n",
    "# pip install paho-mqtt\n",
    "import paho.mqtt.client as mqtt # MQTT(Message Queuing Telemetry Transport)是一种轻量级的即时通信协议，物联网，连接一些信号差，数据量少的设备\n",
    "import sys # 操作系统模块，《操作系统基础》"
   ]
  },
  {
   "cell_type": "code",
   "execution_count": 2,
   "metadata": {},
   "outputs": [],
   "source": [
    "SCREEN_DISPLAY = True\n",
    "SAVE_TO_FILE = True\n",
    "PUBLISH_TO_THINGSBOARD = False\n",
    "DELIMITER = ','\n",
    "SLEEP_TIME_SECONDS = 60*30 # 暂停时间，等待时间\n",
    "SERIAL_PORT = '/dev/ttyS0' # 调用串口的接口，/dev linux操作系统中设备管理的目录，/ttyS0接口号\n",
    "SERIAL_BAUD = 9600 # 通信带宽，波特率"
   ]
  },
  {
   "cell_type": "code",
   "execution_count": 23,
   "metadata": {},
   "outputs": [],
   "source": [
    "file_name = 'yarwun_column.csv' # 读数据文件，将数据写入保存到这个文件\n",
    "\n",
    "field_name = ['scale',\n",
    "            'ec5',\n",
    "            '555 K=0.05 R=21k #3',\n",
    "            '555 K=0.05 R=21k #1',\n",
    "            '555 K=0.05 R=21k #2', \n",
    "            '555 K=0.05 R=20k',\n",
    "            '555 K=0.05 R=21k #4',\n",
    "            '555 K=0.05 R=21k #5',\n",
    "            'temp',\n",
    "            'humidity'] # 字段名或者数据文件头\n",
    "\n",
    "data_collected = dict((el,0.0) for el in field_name) # 将列表转为字典，并将value初始化为0，字段名为key"
   ]
  },
  {
   "cell_type": "code",
   "execution_count": 4,
   "metadata": {},
   "outputs": [
    {
     "data": {
      "text/plain": [
       "{'scale': 0.0,\n",
       " 'ec5': 0.0,\n",
       " '555 K=0.05 R=21k #3': 0.0,\n",
       " '555 K=0.05 R=21k #1': 0.0,\n",
       " '555 K=0.05 R=21k #2': 0.0,\n",
       " '555 K=0.05 R=20k': 0.0,\n",
       " '555 K=0.05 R=21k #4': 0.0,\n",
       " '555 K=0.05 R=21k #5': 0.0,\n",
       " 'temp': 0.0,\n",
       " 'humidity': 0.0}"
      ]
     },
     "execution_count": 4,
     "metadata": {},
     "output_type": "execute_result"
    }
   ],
   "source": [
    "data_collected"
   ]
  },
  {
   "cell_type": "code",
   "execution_count": 3,
   "metadata": {},
   "outputs": [],
   "source": [
    "if (PUBLISH_TO_THINGSBOARD): # 初值为False所以不会运行内部代码，\n",
    "    with open('/home/pi/pyduino/credential/testbench_basin.json') as f: # 读文件testbench_basin.json到变量f\n",
    "        credential = json.load(f) # 使用json模块格式化文件内容\n",
    "\n",
    "    try: # 错误处理方式，如果try内的代码运行错误，特别是读写文件、连接数据库、读写接口等，出现文件错误，连接中断时，运行except中的代码\n",
    "        client = mqtt.Client() # 连接mqtt数据库\n",
    "        client.username_pw_set(credential['access_token']) # 配置连接属性，证书属性值\n",
    "        client.connect(credential['thingsboard_host'], 1883, 60) # 主机地址属性\n",
    "        client.loop_start() # 开始连接并保存连接状态\n",
    "    except Exception:\n",
    "        print(\"Failed to connect to thingsboard\") # 如果连接数据库失败，在屏幕输出Failed to connect to thingsboard"
   ]
  },
  {
   "cell_type": "code",
   "execution_count": 12,
   "metadata": {},
   "outputs": [
    {
     "data": {
      "text/plain": [
       "time.struct_time(tm_year=2022, tm_mon=9, tm_mday=3, tm_hour=8, tm_min=35, tm_sec=59, tm_wday=5, tm_yday=246, tm_isdst=0)"
      ]
     },
     "execution_count": 12,
     "metadata": {},
     "output_type": "execute_result"
    }
   ],
   "source": [
    "time_now = time.time()  # 使用time模块的时间函数\n",
    "time.localtime(time_now)  # 获取当前系统时间"
   ]
  },
  {
   "cell_type": "code",
   "execution_count": 13,
   "metadata": {},
   "outputs": [
    {
     "data": {
      "text/plain": [
       "1662194159.6243582"
      ]
     },
     "execution_count": 13,
     "metadata": {},
     "output_type": "execute_result"
    }
   ],
   "source": [
    "time_now # 从**年到现在的时间，用秒做单位"
   ]
  },
  {
   "cell_type": "code",
   "execution_count": 15,
   "metadata": {},
   "outputs": [
    {
     "data": {
      "text/plain": [
       "1662194159624"
      ]
     },
     "execution_count": 15,
     "metadata": {},
     "output_type": "execute_result"
    }
   ],
   "source": [
    "int(round(time_now * 1000))"
   ]
  },
  {
   "cell_type": "code",
   "execution_count": 16,
   "metadata": {},
   "outputs": [],
   "source": [
    "time_now = time.time()  # 使用time模块\n",
    "time_now_local = time.localtime(time_now)  # 获取当前设备的系统时间\n",
    "seconds_since_epoch = int(round(time_now * 1000))\n",
    "time_now_local_str = time.strftime(\"%Y-%m-%d %H:%M:%S\", time_now_local)"
   ]
  },
  {
   "cell_type": "code",
   "execution_count": 17,
   "metadata": {},
   "outputs": [
    {
     "data": {
      "text/plain": [
       "'2022-09-03 08:40:09'"
      ]
     },
     "execution_count": 17,
     "metadata": {},
     "output_type": "execute_result"
    }
   ],
   "source": [
    "time_now_local_str"
   ]
  },
  {
   "cell_type": "code",
   "execution_count": 21,
   "metadata": {},
   "outputs": [
    {
     "name": "stdout",
     "output_type": "stream",
     "text": [
      "json\n"
     ]
    }
   ],
   "source": [
    "if not os.path.isfile('testbench_basin.json'):\n",
    "    print('json')"
   ]
  },
  {
   "cell_type": "code",
   "execution_count": 28,
   "metadata": {},
   "outputs": [
    {
     "data": {
      "text/plain": [
       "'yarwun_column.csv'"
      ]
     },
     "execution_count": 28,
     "metadata": {},
     "output_type": "execute_result"
    }
   ],
   "source": [
    "file_name"
   ]
  },
  {
   "cell_type": "code",
   "execution_count": 34,
   "metadata": {},
   "outputs": [],
   "source": [
    "if not os.path.isfile(file_name):  # os.path.isfile()判断文件夹下是否有该文件，如果没有则运行\n",
    "    f = open(file_name, 'a', 0)  # 如果没有该文件，则新建一个\n",
    "    # 将字符内容保存到文件中\n",
    "    f.write(\n",
    "        \"Timestamp,Temp (C),Humidity (%),Analog1,Analog2,Analog3,Analog4,Analog5,Analog6,Analog7,Analog8,Analog9,Analog10\\r\\n\")\n",
    "    f.close()"
   ]
  },
  {
   "cell_type": "code",
   "execution_count": null,
   "metadata": {},
   "outputs": [],
   "source": [
    "try:    \n",
    "    # while True:\n",
    "    ard = serial.Serial(port=SERIAL_PORT, baudrate=SERIAL_BAUD, timeout=60) # 使用前面串口的属性，连接设备\n",
    "    time.sleep(5) # 等待5秒\n",
    "    \n",
    "    time_now = time.time() # 使用time模块\n",
    "    time_now_local = time.localtime(time_now) # 获取当前设备的系统时间\n",
    "    seconds_since_epoch = int(round(time_now * 1000))\n",
    "    time_now_local_str = time.strftime(\"%Y-%m-%d %H:%M:%S\", time_now_local) # 格式化时间，将字符串数据持久化\n",
    "    # 数据持久化指的就是将数据保存为文件（csv、json）或写入数据库长期保存下来的意思\n",
    "\n",
    "    # Open file for appending\n",
    "    if SAVE_TO_FILE: # 如果SAVE_TO_FILE=True则运行内部代码\n",
    "        if not os.path.isfile(file_name): # os.path.isfile()判断文件夹下是否有该文件，如果没有则运行\n",
    "            fid = open(file_name, 'a', 0) # 如果没有该文件，则新建一个\n",
    "            # 将字符内容保存到文件中\n",
    "            fid.write(\"Timestamp,Temp (C),Humidity (%),Analog1,Analog2,Analog3,Analog4,Analog5,Analog6,Analog7,Analog8,Analog9,Analog10\\r\\n\") # Allocate column names\n",
    "        fid = open(file_name, 'a', 0) # 如果当前文件夹已经有'yarwun_column.csv'文件了，'a'代表文件的属性为可保存的文档\n",
    "        # 'r'标识文件为只读文件，'w'表示文件为可以写入的状态\n",
    "        # fid.write(time_now_local_str + '\\r\\n')\n",
    "        fid.write(time_now_local_str)   # 将格式化后的时间字符保存到yarwun_column.csv文件里\n",
    "\n",
    "    if SCREEN_DISPLAY: # 如果SCREEN_DISPLAY为True\n",
    "        print(time_now_local_str) # 在屏幕上面显示当前时间，很多时候系统在工作时如果没有输出，我们是不知道系统当前的工作状态的，系统是否正在正常工作\n",
    "        # 如果系统时间长时间没有发生变化，则表示系统死机了或出了某些问题\n",
    "\n",
    "    #---------------------------------Temp & Hum DHT22-----------------------------\n",
    "    # DHT22 temp and humidity onboard\n",
    "    # 从串口根据标识码获取数据并保存到fid中\n",
    "    try:\n",
    "        ard.write(\"dht22,54,power,2,points,3,dummies,1,interval_mm,200,debug,0\")\n",
    "        ard.flushInput()\n",
    "        msg = ard.readline()\n",
    "        current_read = msg.split(',')[0:-1]\n",
    "        dht22_temp = float(current_read[-2])\n",
    "        dht22_hum = float(current_read[-1])\n",
    "        data_collected['temp'] = dht22_temp\n",
    "        data_collected['humidity'] = dht22_hum\n",
    "        if SCREEN_DISPLAY: # 将获取的传感器信息显示到屏幕里\n",
    "            print(\"Ambient Temp (C)\" + \": \" + str(dht22_temp))\n",
    "            print(\"Ambient Humdity (%): \" + str(dht22_hum))\n",
    "\n",
    "        if SAVE_TO_FILE: # 将传感器传递的数据保存到fid变量里\n",
    "            fid.write(DELIMITER + str(dht22_temp))\n",
    "            fid.write(DELIMITER + str(dht22_hum))\n",
    "            # fid.write(time_now_local_str + DELIMITER + 'Temp' + DELIMITER + \"C\" + DELIMITER+DELIMITER + str(dht22_temp) + '\\r\\n')\n",
    "            # fid.write(time_now_local_str + DELIMITER + 'Humidity' + DELIMITER + \"%\" + DELIMITER+DELIMITER + str(dht22_hum) + '\\r\\n')\n",
    "    except Exception: # 如果获取数据失败，则在屏幕上输出下面内容\n",
    "        if SCREEN_DISPLAY:\n",
    "            print(\"DHT22 reading failed, error: {0}\".format(sys.exc_info()[0]))\n",
    "\n",
    "\n",
    "    #---------------------------Moisture Sensor 1--------------\n",
    "    # MS555 K = 0.05, R = 20k\n",
    "    try:\n",
    "        field_name_id = 5\n",
    "        ard.write(\"analog,14,power,44,points,3,interval_mm,200,debug,0\")\n",
    "        ard.flushInput()\n",
    "        msg = ard.readline() # readline()一行行的读，碰到换行符则表示另一行\n",
    "        current_read=msg.split(',')[0:-1]\n",
    "        data_collected['555 K=0.05 R=20k'] = float(current_read[2])\n",
    "        if SCREEN_DISPLAY: print(field_name[field_name_id] + \": \" + msg.rstrip())\n",
    "        if SAVE_TO_FILE:\n",
    "            fid.write(DELIMITER + current_read[2])\n",
    "            # fid.write(time_now_local_str + DELIMITER + field_name[field_name_id] + DELIMITER + msg.rstrip() + '\\r\\n')\n",
    "    except Exception:\n",
    "        if SCREEN_DISPLAY:\n",
    "            print(\"MS555 K=0.05 R=20k reading failed, error: {0}\".format(sys.exc_info()[0]))\n",
    "        \n",
    "\n",
    "    #----------------------------Moisture sensor 2---------------------------------\n",
    "    # MS555 k=0.05 R=21k #3\n",
    "    try:\n",
    "        field_name_id = 2\n",
    "        ard.write(\"analog,13,power,43,points,3,interval_mm,200,debug,0\")\n",
    "        ard.flushInput()\n",
    "        msg = ard.readline()\n",
    "        current_read = msg.split(',')[0:-1]\n",
    "        data_collected['555 K=0.05 R=21k #3'] = float(current_read[2])\n",
    "        if SCREEN_DISPLAY: print(field_name[field_name_id] + \": \" + msg.rstrip())\n",
    "        if SAVE_TO_FILE:\n",
    "            fid.write(DELIMITER + current_read[2])\n",
    "            # fid.write(time_now_local_str + DELIMITER + field_name[field_name_id] + DELIMITER + msg.rstrip() + '\\r\\n')\n",
    "    except Exception:\n",
    "        if SCREEN_DISPLAY:\n",
    "            print(\"MS555 k=0.05 R=21k #3 reading failed, error: {0}\".format(sys.exc_info()[0]))\n",
    "\n",
    "\n",
    "    #----------------------------Moisture sensor 3---------------------------------\n",
    "    # MS555 k=0.05 R=21k #2\n",
    "    try:\n",
    "        field_name_id = 4\n",
    "        ard.write(\"analog,11,power,41,points,3,interval_mm,200,debug,0\")\n",
    "        ard.flushInput()\n",
    "        msg = ard.readline()\n",
    "        current_read=msg.split(',')[0:-1]\n",
    "        data_collected['555 K=0.05 R=21k #2'] = float(current_read[2])\n",
    "        if SCREEN_DISPLAY: print(field_name[field_name_id] + \": \" + msg.rstrip())\n",
    "        if SAVE_TO_FILE:\n",
    "            fid.write(DELIMITER + current_read[2])\n",
    "            # fid.write(time_now_local_str + DELIMITER + field_name[field_name_id] + DELIMITER + msg.rstrip() + '\\r\\n')\n",
    "    except Exception:\n",
    "        if SCREEN_DISPLAY:\n",
    "            print(\"MS555 k=0.05 R=21k #2 reading failed, error: {0}\".format(sys.exc_info()[0]))\n",
    "\n",
    "\n",
    "    #---------------------------Moisture Sensor 4--------------------------------\n",
    "    # MS555 k=0.05 R=21k #1\n",
    "    try:\n",
    "        field_name_id = 3\n",
    "        ard.write(\"analog,10,power,40,points,3,interval_mm,200,debug,0\")\n",
    "        ard.flushInput()\n",
    "        msg = ard.readline()\n",
    "        current_read=msg.split(',')[0:-1]\n",
    "        data_collected['555 K=0.05 R=21k #1'] = float(current_read[2])\n",
    "        if SCREEN_DISPLAY: print(field_name[field_name_id] + \": \" + msg.rstrip())\n",
    "        if SAVE_TO_FILE:\n",
    "            fid.write(DELIMITER + current_read[2])\n",
    "            # fid.write(time_now_local_str + DELIMITER + field_name[field_name_id] + DELIMITER + msg.rstrip() + '\\r\\n')\n",
    "    except Exception:\n",
    "        if SCREEN_DISPLAY:\n",
    "            print(\"MS555 k=0.05 R=21k #1 reading failed, error: {0}\".format(sys.exc_info()[0]))\n",
    "\n",
    "    #--------------------------Moisture Sensor 5-------------------------------\n",
    "    # EC5\n",
    "    try:\n",
    "        field_name_id = 1\n",
    "        ard.write(\"analog,12,power,42,points,3,interval_mm,200,debug,0\")\n",
    "        ard.flushInput()\n",
    "        msg = ard.readline()\n",
    "        current_read=msg.split(',')[0:-1]\n",
    "        data_collected['ec5'] = float(current_read[2])\n",
    "        if SCREEN_DISPLAY: print(field_name[field_name_id] + \": \" + msg.rstrip())\n",
    "        if SAVE_TO_FILE:\n",
    "            fid.write(DELIMITER + current_read[2])\n",
    "            # fid.write(time_now_local_str + DELIMITER + field_name[field_name_id] + DELIMITER + msg.rstrip() + '\\r\\n')\n",
    "    except Exception:\n",
    "        if SCREEN_DISPLAY:\n",
    "            print(\"EC5 reading failed, error: {0}\".format(sys.exc_info()[0]))\n",
    "\n",
    "\n",
    "    #---------------------------Moisture Sensor 6--------------------------------\n",
    "    # MS555 k=0.05 R=21k #4\n",
    "    try:\n",
    "        field_name_id = 6\n",
    "        ard.write(\"analog,9,power,39,points,3,interval_mm,200,debug,0\")\n",
    "        ard.flushInput()\n",
    "        msg = ard.readline()\n",
    "        current_read=msg.split(',')[0:-1]\n",
    "        data_collected['555 K=0.05 R=21k #4'] = float(current_read[2])\n",
    "        if SCREEN_DISPLAY: print(field_name[field_name_id] + \": \" + msg.rstrip())\n",
    "        if SAVE_TO_FILE:\n",
    "            fid.write(DELIMITER + current_read[2])\n",
    "            # fid.write(time_now_local_str + DELIMITER + field_name[field_name_id] + DELIMITER + msg.rstrip() + '\\r\\n')\n",
    "    except Exception:\n",
    "        if SCREEN_DISPLAY:\n",
    "            print(\"MS555 k=0.05 R=21k #4 reading failed, error: {0}\".format(sys.exc_info()[0]))\n",
    "\n",
    "    #---------------------------Moisture Sensor 7--------------------------------\n",
    "    # MS555 k=0.05 R=21k #5\n",
    "    try:\n",
    "        field_name_id = 7\n",
    "        ard.write(\"analog,8,power,38,points,3,interval_mm,200,debug,0\")\n",
    "        ard.flushInput()\n",
    "        msg = ard.readline()\n",
    "        current_read=msg.split(',')[0:-1]\n",
    "        data_collected['555 K=0.05 R=21k #5'] = float(current_read[2])\n",
    "        if SCREEN_DISPLAY: print(field_name[field_name_id] + \": \" + msg.rstrip())\n",
    "        if SAVE_TO_FILE:\n",
    "            fid.write(DELIMITER + current_read[2])\n",
    "            # fid.write(time_now_local_str + DELIMITER + field_name[field_name_id] + DELIMITER + msg.rstrip() + '\\r\\n')\n",
    "    except Exception:\n",
    "        if SCREEN_DISPLAY:\n",
    "            print(\"MS555 k=0.05 R=21k #4 reading failed, error: {0}\".format(sys.exc_info()[0]))\n",
    "\n",
    "\n",
    "    #----------------------------Upload data -----------------------------------    \n",
    "    if (ard.isOpen()):\n",
    "        ard.close()\n",
    "\n",
    "    if (PUBLISH_TO_THINGSBOARD):\n",
    "        json_data = {\"ts\":seconds_since_epoch, \"values\": data_collected}\n",
    "        # json_data = data_collected\n",
    "        try:\n",
    "            # Result is in tuple (rc, mid) of MQTTMessageInfo class\n",
    "            publish_result = client.publish('v1/devices/me/telemetry', payload=json.dumps(json_data), qos=1)\n",
    "            # publish_result.wait_for_publish(timeout=1)\n",
    "            # print(publish_result.is_published())\n",
    "            # if (not publish_result.is_published()):\n",
    "            if (publish_result.rc != mqtt.MQTT_ERR_SUCCESS):\n",
    "                if SCREEN_DISPLAY:\n",
    "                    print(mqtt.error_string(publish_result.rc))\n",
    "                json_filename = \"tsqueue_testbench_basin.json\"\n",
    "                listObj = []\n",
    "                # Read json file\n",
    "                if (os.path.isfile(json_filename)):\n",
    "                    with open(json_filename) as json_file:\n",
    "                        listObj = json.load(json_file)\n",
    "                # Verify existing list\n",
    "                # print(listObj)\n",
    "                # print(type(listObj))\n",
    "                # print(json.dumps(listObj))\n",
    "                # print(json.dumps(listObj[0]))\n",
    "                listObj.append(json_data)\n",
    "                with open(json_filename, 'w') as json_file:\n",
    "                    json.dump(listObj, json_file, indent=4, separators=(\",\",\": \"))\n",
    "        except (ValueError, RuntimeError) as error:\n",
    "            if SCREEN_DISPLAY:\n",
    "                print(error)\n",
    "        finally:\n",
    "            if SCREEN_DISPLAY:\n",
    "                print(publish_result)\n",
    "                print(json_data)\n",
    "\n",
    "    if SCREEN_DISPLAY:\n",
    "        print(\"\")\n",
    "\n",
    "    if SAVE_TO_FILE:\n",
    "        fid.write(\"\\r\\n\")\n",
    "        if (fid.closed == False):\n",
    "            fid.close()\n",
    "\n",
    "    # print(\"begin to sleep\")\n",
    "    # time.sleep(SLEEP_TIME_SECONDS) # sleep to the next loop\n",
    "       \n",
    "\n",
    "except KeyboardInterrupt: # 当try中的代码出现错误或连接数据库等连接问题时，不运行，空跑一下\n",
    "    pass\n",
    "\n",
    "finally: # try中的代码不断从设备获取数据，一直到最后终止连接时，才运行finally中的代码\n",
    "    if (SAVE_TO_FILE and (fid.closed == False)): # 关闭连接\n",
    "        fid.close()\n",
    "    if (ard.isOpen()):\n",
    "        ard.close()\n",
    "    if (PUBLISH_TO_THINGSBOARD): # 关闭接口\n",
    "        client.loop_stop()\n",
    "        client.disconnect()"
   ]
  }
 ],
 "metadata": {
  "kernelspec": {
   "display_name": "Python 3",
   "language": "python",
   "name": "python3"
  },
  "language_info": {
   "codemirror_mode": {
    "name": "ipython",
    "version": 3
   },
   "file_extension": ".py",
   "mimetype": "text/x-python",
   "name": "python",
   "nbconvert_exporter": "python",
   "pygments_lexer": "ipython3",
   "version": "3.8.5"
  },
  "toc": {
   "base_numbering": 1,
   "nav_menu": {},
   "number_sections": true,
   "sideBar": true,
   "skip_h1_title": false,
   "title_cell": "Table of Contents",
   "title_sidebar": "Contents",
   "toc_cell": false,
   "toc_position": {},
   "toc_section_display": true,
   "toc_window_display": false
  }
 },
 "nbformat": 4,
 "nbformat_minor": 4
}
